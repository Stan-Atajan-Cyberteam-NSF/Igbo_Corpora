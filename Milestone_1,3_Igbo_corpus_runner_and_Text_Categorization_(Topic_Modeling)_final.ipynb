{
  "cells": [
    {
      "cell_type": "markdown",
      "source": [
        "Hello, This is IGBO Corpus Builder. You will need to run each cell to generate Corpus and get results for some code examples.\n",
        "\n",
        "The IGBO corpus files will be visible on the left hand side under the folder Menu. All the textual files are stored here: https://github.com/Stan-Atajan-Cyberteam-NSF/Igbo_Corpora"
      ],
      "metadata": {
        "id": "zXtv6YPB7bEH"
      }
    },
    {
      "cell_type": "code",
      "execution_count": null,
      "metadata": {
        "colab": {
          "base_uri": "https://localhost:8080/"
        },
        "id": "AWd_JZ-jy4BJ",
        "outputId": "291360d6-8e6d-4369-c482-c88be27259e9"
      },
      "outputs": [
        {
          "output_type": "stream",
          "name": "stderr",
          "text": [
            "[nltk_data] Downloading package stopwords to /root/nltk_data...\n",
            "[nltk_data]   Package stopwords is already up-to-date!\n",
            "[nltk_data] Downloading package punkt to /root/nltk_data...\n",
            "[nltk_data]   Package punkt is already up-to-date!\n",
            "[nltk_data] Downloading package gutenberg to /root/nltk_data...\n",
            "[nltk_data]   Package gutenberg is already up-to-date!\n"
          ]
        }
      ],
      "source": [
        "#Run to load necessary libraries\n",
        "import nltk\n",
        "from nltk.text import Text\n",
        "import urllib.request\n",
        "\n",
        "nltk.download('stopwords')\n",
        "nltk.download('punkt')\n",
        "nltk.download('gutenberg')\n",
        "from nltk import ngrams\n",
        "import matplotlib.pyplot as plt\n",
        "from nltk.collocations import BigramAssocMeasures, BigramCollocationFinder\n",
        "from wordcloud import WordCloud\n",
        "from collections import Counter\n",
        "from nltk import FreqDist\n",
        "import pandas as pd\n",
        "\n",
        "import urllib.request\n",
        "import nltk\n",
        "import os\n",
        "from nltk.corpus.reader.plaintext import PlaintextCorpusReader\n",
        "import requests"
      ]
    },
    {
      "cell_type": "markdown",
      "metadata": {
        "id": "8sMk4MechjbB"
      },
      "source": [
        "#Creating IGBO CORPUS"
      ]
    },
    {
      "cell_type": "code",
      "execution_count": null,
      "metadata": {
        "id": "apovFD22a55y"
      },
      "outputs": [],
      "source": [
        "#@title Corpus Creator\n",
        "import urllib.request\n",
        "import nltk\n",
        "import os\n",
        "from nltk.corpus.reader.plaintext import PlaintextCorpusReader\n",
        "import requests\n",
        "\n",
        "# create a new corpus directory Igbo\n",
        "corpus_root = '/content/Igbo'\n",
        "nltk.data.path.append(corpus_root)\n",
        "\n",
        "#our main subfolders under Igbo folder\n",
        "general_genres = ['folklore_stories', 'government', 'news','bible_books'] #changing from bbc_news to news\n",
        "\n",
        "# create subdirectories for each genre\n",
        "for genre in general_genres:\n",
        "    genre_path = os.path.join(corpus_root, genre)\n",
        "    if not os.path.exists(genre_path):\n",
        "        os.makedirs(genre_path)\n",
        "\n",
        "\n",
        "\n",
        "# text files that contain urls of corpora urls\n",
        "bible_books_urls = \"https://raw.githubusercontent.com/Stan-Atajan-Cyberteam-NSF/Igbo_Corpora/main/Corpus/Bible_books.txt\"\n",
        "folklore_stories_urls = \"https://raw.githubusercontent.com/Stan-Atajan-Cyberteam-NSF/Igbo_Corpora/main/Corpus/folklore_stories.txt\"\n",
        "government_urls = 'https://raw.githubusercontent.com/Stan-Atajan-Cyberteam-NSF/Igbo_Corpora/main/Corpus/govt_docs.txt'\n",
        "bbc_news_urls = 'https://raw.githubusercontent.com/Stan-Atajan-Cyberteam-NSF/Igbo_Corpora/main/Corpus/bbc_links.txt'\n",
        "\n",
        "\n",
        "#get bible books urls\n",
        "response = requests.get(bible_books_urls)\n",
        "url_list = response.content.decode().split(\"\\n\")\n",
        "bible_books_urls2 = [url.replace('\\r', '') for url in url_list]\n",
        "#get folklore stories' urls\n",
        "response = requests.get(folklore_stories_urls)\n",
        "url_list = response.content.decode().split(\"\\n\")\n",
        "folklore_stories_urls2 = [url.replace('\\r', '') for url in url_list]\n",
        "#get government files urls\n",
        "response = requests.get(government_urls)\n",
        "url_list = response.content.decode().split(\"\\n\")\n",
        "government_urls2 = [url.replace('\\r', '') for url in url_list]\n",
        "#get bbc news urls\n",
        "response = requests.get(bbc_news_urls)\n",
        "url_list = response.content.decode().split(\"\\n\")\n",
        "bbc_news_urls2 = [url.replace('\\r', '') for url in url_list]\n",
        "\n",
        "\n",
        "#get copy text and create a txt file from urls\n",
        "def corpora_creator(corpora_urls,genre): #corpora urls is urls for each corpora, genre is which subcorpus to put files in\n",
        "  for i, url in enumerate(corpora_urls):\n",
        "      # get the filename from the url after the 7th / character\n",
        "      filename = url.split('/')[-1]\n",
        "      # remove the file extension from the filename\n",
        "      filename = os.path.splitext(filename)[0]\n",
        "      # get the first alpha word from the filename\n",
        "      filename = f'{\"\".join(filter(str.isalpha, corpora_urls[i].split(\"/\")[-1].split(\".\")[0]))}'\n",
        " #filename = ''.join(filter(str.isalpha, filename))\n",
        "      with urllib.request.urlopen(url) as response:\n",
        "          text = response.read().decode().split('\\n')\n",
        "          with open(os.path.join(corpus_root, genre, f'{filename}.txt'), 'w') as file:\n",
        "              file.write('\\n'.join(text))\n",
        "# Remove empty strings from bbc_news_urls2\n",
        "bbc_news_urls2 = [url for url in bbc_news_urls2 if url.strip()]\n",
        "\n",
        "#apply function above\n",
        "corpora_creator(folklore_stories_urls2,general_genres[0]) #to put in folklore stores\n",
        "corpora_creator(bbc_news_urls2, general_genres[2]) #to put in the bbc news\n",
        "corpora_creator(bible_books_urls2, general_genres[3]) #to put in the bible books\n",
        "corpora_creator(government_urls2, general_genres[1]) #to put in the government"
      ]
    },
    {
      "cell_type": "markdown",
      "metadata": {
        "id": "yw1_m8mOhrMP"
      },
      "source": [
        "## Converting to Corpus file and printing existing corporas"
      ]
    },
    {
      "cell_type": "code",
      "execution_count": null,
      "metadata": {
        "colab": {
          "base_uri": "https://localhost:8080/"
        },
        "id": "bZ0BZP8HehkZ",
        "outputId": "0f091c3f-06e3-4888-bba5-b6f6de59a58a"
      },
      "outputs": [
        {
          "output_type": "stream",
          "name": "stdout",
          "text": [
            "\n",
            "bible_books:\n",
            "['bible_books/BookofAbuakwa.txt', 'bible_books/BookofAbunkeabu.txt', 'bible_books/BookofAbuoma.txt', 'bible_books/BookofAisaia.txt', 'bible_books/BookofDaniel.txt', 'bible_books/BookofDeuteronomi.txt', 'bible_books/BookofEklisiastis.txt', 'bible_books/BookofEmos.txt', 'bible_books/BookofEsta.txt', 'bible_books/BookofEzikiel.txt', 'bible_books/BookofEzra.txt', 'bible_books/BookofFailimon.txt', 'bible_books/BookofHabakuk.txt', 'bible_books/BookofHagai.txt', 'bible_books/BookofHosea.txt', 'bible_books/BookofIlu.txt', 'bible_books/BookofJemes.txt', 'bible_books/BookofJenesis.txt', 'bible_books/BookofJeremaia.txt', 'bible_books/BookofJob.txt', 'bible_books/BookofJoel.txt', 'bible_books/BookofJon.txt', 'bible_books/BookofJona.txt', 'bible_books/BookofJoshua.txt', 'bible_books/BookofJud.txt', 'bible_books/BookofLevitikos.txt', 'bible_books/BookofLuk.txt', 'bible_books/BookofMaika.txt', 'bible_books/BookofMaitu.txt', 'bible_books/BookofMak.txt', 'bible_books/BookofMalakai.txt', 'bible_books/BookofNdiGaletia.txt', 'bible_books/BookofNdiKolosi.txt', 'bible_books/BookofNdiefesos.txt', 'bible_books/BookofNdifilipai.txt', 'bible_books/BookofNdihibru.txt', 'bible_books/BookofNdiikpe.txt', 'bible_books/BookofNdirom.txt', 'bible_books/BookofNehemaia.txt', 'bible_books/BookofNehum.txt', 'bible_books/BookofNkupghe.txt', 'bible_books/BookofObadaia.txt', 'bible_books/BookofOlundiozi.txt', 'bible_books/BookofOnuogugo.txt', 'bible_books/BookofOpupu.txt', 'bible_books/BookofRut.txt', 'bible_books/BookofTaitos.txt', 'bible_books/BookofZefanaia.txt', 'bible_books/BookofZekaraia.txt', 'bible_books/BookofiIheemere.txt', 'bible_books/BookofiJon.txt', 'bible_books/BookofiNdiKorint.txt', 'bible_books/BookofiNdieze.txt', 'bible_books/BookofiNditesalonaika.txt', 'bible_books/BookofiPita.txt', 'bible_books/BookofiSamuel.txt', 'bible_books/BookofiTimoti.txt', 'bible_books/BookofiiIheemere.txt', 'bible_books/BookofiiJon.txt', 'bible_books/BookofiiNdiKorint.txt', 'bible_books/BookofiiNdieze.txt', 'bible_books/BookofiiNditesalonaika.txt', 'bible_books/BookofiiPita.txt', 'bible_books/BookofiiSamuel.txt', 'bible_books/BookofiiTimoti.txt', 'bible_books/BookofiiiJon.txt']\n",
            "\n",
            "folklore_stories:\n",
            "['folklore_stories/AtuutanNwaIliko.txt', 'folklore_stories/Enenduigboanugonwakannaya.txt', 'folklore_stories/Ineineineine.txt', 'folklore_stories/Nwaezuluonyeogu.txt', 'folklore_stories/Nwatanaopiya.txt', 'folklore_stories/ObogwuObogwu.txt', 'folklore_stories/Ojaadili.txt', 'folklore_stories/Okeenwekwiiyango.txt']\n",
            "\n",
            "government:\n",
            "['government/BiafranDeclarationofIndependenceigbo.txt', 'government/NigeriaConstitutiongoogletranslate.txt', 'government/UniversalDeclarationofHumanRightsigbo.txt']\n",
            "\n",
            "news:\n",
            "['news/akuko.txt', 'news/egwuregwu.txt', 'news/igbovon.txt']\n"
          ]
        }
      ],
      "source": [
        "from nltk.corpus.reader.plaintext import CategorizedPlaintextCorpusReader\n",
        "#create the root folder\n",
        "corpus_root = '/content/Igbo'\n",
        "\n",
        "# create a CategorizedPlaintextCorpusReader\n",
        "IGBO = CategorizedPlaintextCorpusReader(corpus_root, r'.*\\.txt', cat_pattern=r'([\\w_]+)/.*')\n",
        "#to count sentences\n",
        "tokenizer = nltk.data.load('tokenizers/punkt/english.pickle')\n",
        "#to store each genres words and sentences\n",
        "df = pd.DataFrame(columns=['genre', 'num_words', 'num_sentences'])\n",
        "\n",
        "# print fileids and genres\n",
        "for genre in IGBO.categories():\n",
        "    print(f\"\\n{genre}:\\n{IGBO.fileids(categories=genre)}\")\n",
        "\n",
        "#store number of words and sentences for each genre\n",
        "for genre in IGBO.categories():\n",
        "\n",
        "    # Get the list of files for this genre\n",
        "\n",
        "    fileids = IGBO.fileids(categories=genre)\n",
        "\n",
        "    # Initialize counters for this genre\n",
        "    num_words = 0\n",
        "    num_sentences = 0\n",
        "\n",
        "    # Loop over the files for this genre\n",
        "    for fileid in fileids:\n",
        "        # Load the file content\n",
        "        content = IGBO.raw(fileids=[fileid])\n",
        "\n",
        "        # Tokenize the sentences and count them\n",
        "        sentences = tokenizer.tokenize(content)\n",
        "        num_sentences += len(sentences)\n",
        "\n",
        "        # Tokenize the words and count them\n",
        "        words = nltk.word_tokenize(content)\n",
        "        num_words += len(words)\n",
        "    #dataframe to build\n",
        "    data_to_append = {'genre': genre, 'num_words': num_words, 'num_sentences': num_sentences}\n",
        "\n",
        "    # Store the results for this genre in the dataframe\n",
        "#    df = df.append({'genre': genre, 'num_words': num_words, 'num_sentences': num_sentences}, ignore_index=True)\n",
        "    df = pd.concat([df, pd.DataFrame(data_to_append, index=[0])], ignore_index=True)\n",
        "\n",
        "# Print the dataframe\n",
        "#print(df)\n"
      ]
    },
    {
      "cell_type": "markdown",
      "metadata": {
        "id": "fDbQAzvxhxnn"
      },
      "source": [
        "### Examples to run"
      ]
    },
    {
      "cell_type": "code",
      "execution_count": null,
      "metadata": {
        "id": "052l_EkQhUrs",
        "colab": {
          "base_uri": "https://localhost:8080/",
          "height": 175
        },
        "outputId": "257f9a70-b3b6-4787-a923-499cefc5dd2e"
      },
      "outputs": [
        {
          "output_type": "execute_result",
          "data": {
            "text/plain": [
              "              genre num_words num_sentences  total_words  total_sents\n",
              "0       bible_books    806453         27544      2269771        75883\n",
              "1  folklore_stories     13861           952      2269771        75883\n",
              "2        government     52506          1456      2269771        75883\n",
              "3              news   1396951         45931      2269771        75883"
            ],
            "text/html": [
              "\n",
              "  <div id=\"df-b6b53beb-217c-4e73-a66b-a27a2a32212a\" class=\"colab-df-container\">\n",
              "    <div>\n",
              "<style scoped>\n",
              "    .dataframe tbody tr th:only-of-type {\n",
              "        vertical-align: middle;\n",
              "    }\n",
              "\n",
              "    .dataframe tbody tr th {\n",
              "        vertical-align: top;\n",
              "    }\n",
              "\n",
              "    .dataframe thead th {\n",
              "        text-align: right;\n",
              "    }\n",
              "</style>\n",
              "<table border=\"1\" class=\"dataframe\">\n",
              "  <thead>\n",
              "    <tr style=\"text-align: right;\">\n",
              "      <th></th>\n",
              "      <th>genre</th>\n",
              "      <th>num_words</th>\n",
              "      <th>num_sentences</th>\n",
              "      <th>total_words</th>\n",
              "      <th>total_sents</th>\n",
              "    </tr>\n",
              "  </thead>\n",
              "  <tbody>\n",
              "    <tr>\n",
              "      <th>0</th>\n",
              "      <td>bible_books</td>\n",
              "      <td>806453</td>\n",
              "      <td>27544</td>\n",
              "      <td>2269771</td>\n",
              "      <td>75883</td>\n",
              "    </tr>\n",
              "    <tr>\n",
              "      <th>1</th>\n",
              "      <td>folklore_stories</td>\n",
              "      <td>13861</td>\n",
              "      <td>952</td>\n",
              "      <td>2269771</td>\n",
              "      <td>75883</td>\n",
              "    </tr>\n",
              "    <tr>\n",
              "      <th>2</th>\n",
              "      <td>government</td>\n",
              "      <td>52506</td>\n",
              "      <td>1456</td>\n",
              "      <td>2269771</td>\n",
              "      <td>75883</td>\n",
              "    </tr>\n",
              "    <tr>\n",
              "      <th>3</th>\n",
              "      <td>news</td>\n",
              "      <td>1396951</td>\n",
              "      <td>45931</td>\n",
              "      <td>2269771</td>\n",
              "      <td>75883</td>\n",
              "    </tr>\n",
              "  </tbody>\n",
              "</table>\n",
              "</div>\n",
              "    <div class=\"colab-df-buttons\">\n",
              "\n",
              "  <div class=\"colab-df-container\">\n",
              "    <button class=\"colab-df-convert\" onclick=\"convertToInteractive('df-b6b53beb-217c-4e73-a66b-a27a2a32212a')\"\n",
              "            title=\"Convert this dataframe to an interactive table.\"\n",
              "            style=\"display:none;\">\n",
              "\n",
              "  <svg xmlns=\"http://www.w3.org/2000/svg\" height=\"24px\" viewBox=\"0 -960 960 960\">\n",
              "    <path d=\"M120-120v-720h720v720H120Zm60-500h600v-160H180v160Zm220 220h160v-160H400v160Zm0 220h160v-160H400v160ZM180-400h160v-160H180v160Zm440 0h160v-160H620v160ZM180-180h160v-160H180v160Zm440 0h160v-160H620v160Z\"/>\n",
              "  </svg>\n",
              "    </button>\n",
              "\n",
              "  <style>\n",
              "    .colab-df-container {\n",
              "      display:flex;\n",
              "      gap: 12px;\n",
              "    }\n",
              "\n",
              "    .colab-df-convert {\n",
              "      background-color: #E8F0FE;\n",
              "      border: none;\n",
              "      border-radius: 50%;\n",
              "      cursor: pointer;\n",
              "      display: none;\n",
              "      fill: #1967D2;\n",
              "      height: 32px;\n",
              "      padding: 0 0 0 0;\n",
              "      width: 32px;\n",
              "    }\n",
              "\n",
              "    .colab-df-convert:hover {\n",
              "      background-color: #E2EBFA;\n",
              "      box-shadow: 0px 1px 2px rgba(60, 64, 67, 0.3), 0px 1px 3px 1px rgba(60, 64, 67, 0.15);\n",
              "      fill: #174EA6;\n",
              "    }\n",
              "\n",
              "    .colab-df-buttons div {\n",
              "      margin-bottom: 4px;\n",
              "    }\n",
              "\n",
              "    [theme=dark] .colab-df-convert {\n",
              "      background-color: #3B4455;\n",
              "      fill: #D2E3FC;\n",
              "    }\n",
              "\n",
              "    [theme=dark] .colab-df-convert:hover {\n",
              "      background-color: #434B5C;\n",
              "      box-shadow: 0px 1px 3px 1px rgba(0, 0, 0, 0.15);\n",
              "      filter: drop-shadow(0px 1px 2px rgba(0, 0, 0, 0.3));\n",
              "      fill: #FFFFFF;\n",
              "    }\n",
              "  </style>\n",
              "\n",
              "    <script>\n",
              "      const buttonEl =\n",
              "        document.querySelector('#df-b6b53beb-217c-4e73-a66b-a27a2a32212a button.colab-df-convert');\n",
              "      buttonEl.style.display =\n",
              "        google.colab.kernel.accessAllowed ? 'block' : 'none';\n",
              "\n",
              "      async function convertToInteractive(key) {\n",
              "        const element = document.querySelector('#df-b6b53beb-217c-4e73-a66b-a27a2a32212a');\n",
              "        const dataTable =\n",
              "          await google.colab.kernel.invokeFunction('convertToInteractive',\n",
              "                                                    [key], {});\n",
              "        if (!dataTable) return;\n",
              "\n",
              "        const docLinkHtml = 'Like what you see? Visit the ' +\n",
              "          '<a target=\"_blank\" href=https://colab.research.google.com/notebooks/data_table.ipynb>data table notebook</a>'\n",
              "          + ' to learn more about interactive tables.';\n",
              "        element.innerHTML = '';\n",
              "        dataTable['output_type'] = 'display_data';\n",
              "        await google.colab.output.renderOutput(dataTable, element);\n",
              "        const docLink = document.createElement('div');\n",
              "        docLink.innerHTML = docLinkHtml;\n",
              "        element.appendChild(docLink);\n",
              "      }\n",
              "    </script>\n",
              "  </div>\n",
              "\n",
              "\n",
              "<div id=\"df-2db2f690-f502-46b3-a69a-429dc114fed7\">\n",
              "  <button class=\"colab-df-quickchart\" onclick=\"quickchart('df-2db2f690-f502-46b3-a69a-429dc114fed7')\"\n",
              "            title=\"Suggest charts\"\n",
              "            style=\"display:none;\">\n",
              "\n",
              "<svg xmlns=\"http://www.w3.org/2000/svg\" height=\"24px\"viewBox=\"0 0 24 24\"\n",
              "     width=\"24px\">\n",
              "    <g>\n",
              "        <path d=\"M19 3H5c-1.1 0-2 .9-2 2v14c0 1.1.9 2 2 2h14c1.1 0 2-.9 2-2V5c0-1.1-.9-2-2-2zM9 17H7v-7h2v7zm4 0h-2V7h2v10zm4 0h-2v-4h2v4z\"/>\n",
              "    </g>\n",
              "</svg>\n",
              "  </button>\n",
              "\n",
              "<style>\n",
              "  .colab-df-quickchart {\n",
              "      --bg-color: #E8F0FE;\n",
              "      --fill-color: #1967D2;\n",
              "      --hover-bg-color: #E2EBFA;\n",
              "      --hover-fill-color: #174EA6;\n",
              "      --disabled-fill-color: #AAA;\n",
              "      --disabled-bg-color: #DDD;\n",
              "  }\n",
              "\n",
              "  [theme=dark] .colab-df-quickchart {\n",
              "      --bg-color: #3B4455;\n",
              "      --fill-color: #D2E3FC;\n",
              "      --hover-bg-color: #434B5C;\n",
              "      --hover-fill-color: #FFFFFF;\n",
              "      --disabled-bg-color: #3B4455;\n",
              "      --disabled-fill-color: #666;\n",
              "  }\n",
              "\n",
              "  .colab-df-quickchart {\n",
              "    background-color: var(--bg-color);\n",
              "    border: none;\n",
              "    border-radius: 50%;\n",
              "    cursor: pointer;\n",
              "    display: none;\n",
              "    fill: var(--fill-color);\n",
              "    height: 32px;\n",
              "    padding: 0;\n",
              "    width: 32px;\n",
              "  }\n",
              "\n",
              "  .colab-df-quickchart:hover {\n",
              "    background-color: var(--hover-bg-color);\n",
              "    box-shadow: 0 1px 2px rgba(60, 64, 67, 0.3), 0 1px 3px 1px rgba(60, 64, 67, 0.15);\n",
              "    fill: var(--button-hover-fill-color);\n",
              "  }\n",
              "\n",
              "  .colab-df-quickchart-complete:disabled,\n",
              "  .colab-df-quickchart-complete:disabled:hover {\n",
              "    background-color: var(--disabled-bg-color);\n",
              "    fill: var(--disabled-fill-color);\n",
              "    box-shadow: none;\n",
              "  }\n",
              "\n",
              "  .colab-df-spinner {\n",
              "    border: 2px solid var(--fill-color);\n",
              "    border-color: transparent;\n",
              "    border-bottom-color: var(--fill-color);\n",
              "    animation:\n",
              "      spin 1s steps(1) infinite;\n",
              "  }\n",
              "\n",
              "  @keyframes spin {\n",
              "    0% {\n",
              "      border-color: transparent;\n",
              "      border-bottom-color: var(--fill-color);\n",
              "      border-left-color: var(--fill-color);\n",
              "    }\n",
              "    20% {\n",
              "      border-color: transparent;\n",
              "      border-left-color: var(--fill-color);\n",
              "      border-top-color: var(--fill-color);\n",
              "    }\n",
              "    30% {\n",
              "      border-color: transparent;\n",
              "      border-left-color: var(--fill-color);\n",
              "      border-top-color: var(--fill-color);\n",
              "      border-right-color: var(--fill-color);\n",
              "    }\n",
              "    40% {\n",
              "      border-color: transparent;\n",
              "      border-right-color: var(--fill-color);\n",
              "      border-top-color: var(--fill-color);\n",
              "    }\n",
              "    60% {\n",
              "      border-color: transparent;\n",
              "      border-right-color: var(--fill-color);\n",
              "    }\n",
              "    80% {\n",
              "      border-color: transparent;\n",
              "      border-right-color: var(--fill-color);\n",
              "      border-bottom-color: var(--fill-color);\n",
              "    }\n",
              "    90% {\n",
              "      border-color: transparent;\n",
              "      border-bottom-color: var(--fill-color);\n",
              "    }\n",
              "  }\n",
              "</style>\n",
              "\n",
              "  <script>\n",
              "    async function quickchart(key) {\n",
              "      const quickchartButtonEl =\n",
              "        document.querySelector('#' + key + ' button');\n",
              "      quickchartButtonEl.disabled = true;  // To prevent multiple clicks.\n",
              "      quickchartButtonEl.classList.add('colab-df-spinner');\n",
              "      try {\n",
              "        const charts = await google.colab.kernel.invokeFunction(\n",
              "            'suggestCharts', [key], {});\n",
              "      } catch (error) {\n",
              "        console.error('Error during call to suggestCharts:', error);\n",
              "      }\n",
              "      quickchartButtonEl.classList.remove('colab-df-spinner');\n",
              "      quickchartButtonEl.classList.add('colab-df-quickchart-complete');\n",
              "    }\n",
              "    (() => {\n",
              "      let quickchartButtonEl =\n",
              "        document.querySelector('#df-2db2f690-f502-46b3-a69a-429dc114fed7 button');\n",
              "      quickchartButtonEl.style.display =\n",
              "        google.colab.kernel.accessAllowed ? 'block' : 'none';\n",
              "    })();\n",
              "  </script>\n",
              "</div>\n",
              "\n",
              "  <div id=\"id_dc0e0ab8-a4f9-438a-a388-b132484659fa\">\n",
              "    <style>\n",
              "      .colab-df-generate {\n",
              "        background-color: #E8F0FE;\n",
              "        border: none;\n",
              "        border-radius: 50%;\n",
              "        cursor: pointer;\n",
              "        display: none;\n",
              "        fill: #1967D2;\n",
              "        height: 32px;\n",
              "        padding: 0 0 0 0;\n",
              "        width: 32px;\n",
              "      }\n",
              "\n",
              "      .colab-df-generate:hover {\n",
              "        background-color: #E2EBFA;\n",
              "        box-shadow: 0px 1px 2px rgba(60, 64, 67, 0.3), 0px 1px 3px 1px rgba(60, 64, 67, 0.15);\n",
              "        fill: #174EA6;\n",
              "      }\n",
              "\n",
              "      [theme=dark] .colab-df-generate {\n",
              "        background-color: #3B4455;\n",
              "        fill: #D2E3FC;\n",
              "      }\n",
              "\n",
              "      [theme=dark] .colab-df-generate:hover {\n",
              "        background-color: #434B5C;\n",
              "        box-shadow: 0px 1px 3px 1px rgba(0, 0, 0, 0.15);\n",
              "        filter: drop-shadow(0px 1px 2px rgba(0, 0, 0, 0.3));\n",
              "        fill: #FFFFFF;\n",
              "      }\n",
              "    </style>\n",
              "    <button class=\"colab-df-generate\" onclick=\"generateWithVariable('df')\"\n",
              "            title=\"Generate code using this dataframe.\"\n",
              "            style=\"display:none;\">\n",
              "\n",
              "  <svg xmlns=\"http://www.w3.org/2000/svg\" height=\"24px\"viewBox=\"0 0 24 24\"\n",
              "       width=\"24px\">\n",
              "    <path d=\"M7,19H8.4L18.45,9,17,7.55,7,17.6ZM5,21V16.75L18.45,3.32a2,2,0,0,1,2.83,0l1.4,1.43a1.91,1.91,0,0,1,.58,1.4,1.91,1.91,0,0,1-.58,1.4L9.25,21ZM18.45,9,17,7.55Zm-12,3A5.31,5.31,0,0,0,4.9,8.1,5.31,5.31,0,0,0,1,6.5,5.31,5.31,0,0,0,4.9,4.9,5.31,5.31,0,0,0,6.5,1,5.31,5.31,0,0,0,8.1,4.9,5.31,5.31,0,0,0,12,6.5,5.46,5.46,0,0,0,6.5,12Z\"/>\n",
              "  </svg>\n",
              "    </button>\n",
              "    <script>\n",
              "      (() => {\n",
              "      const buttonEl =\n",
              "        document.querySelector('#id_dc0e0ab8-a4f9-438a-a388-b132484659fa button.colab-df-generate');\n",
              "      buttonEl.style.display =\n",
              "        google.colab.kernel.accessAllowed ? 'block' : 'none';\n",
              "\n",
              "      buttonEl.onclick = () => {\n",
              "        google.colab.notebook.generateWithVariable('df');\n",
              "      }\n",
              "      })();\n",
              "    </script>\n",
              "  </div>\n",
              "\n",
              "    </div>\n",
              "  </div>\n"
            ],
            "application/vnd.google.colaboratory.intrinsic+json": {
              "type": "dataframe",
              "variable_name": "df",
              "summary": "{\n  \"name\": \"df\",\n  \"rows\": 4,\n  \"fields\": [\n    {\n      \"column\": \"genre\",\n      \"properties\": {\n        \"dtype\": \"string\",\n        \"num_unique_values\": 4,\n        \"samples\": [\n          \"folklore_stories\",\n          \"news\",\n          \"bible_books\"\n        ],\n        \"semantic_type\": \"\",\n        \"description\": \"\"\n      }\n    },\n    {\n      \"column\": \"num_words\",\n      \"properties\": {\n        \"dtype\": \"date\",\n        \"min\": 13861,\n        \"max\": 1396951,\n        \"num_unique_values\": 4,\n        \"samples\": [\n          13861,\n          1396951,\n          806453\n        ],\n        \"semantic_type\": \"\",\n        \"description\": \"\"\n      }\n    },\n    {\n      \"column\": \"num_sentences\",\n      \"properties\": {\n        \"dtype\": \"date\",\n        \"min\": 952,\n        \"max\": 45931,\n        \"num_unique_values\": 4,\n        \"samples\": [\n          952,\n          45931,\n          27544\n        ],\n        \"semantic_type\": \"\",\n        \"description\": \"\"\n      }\n    },\n    {\n      \"column\": \"total_words\",\n      \"properties\": {\n        \"dtype\": \"number\",\n        \"std\": 0,\n        \"min\": 2269771,\n        \"max\": 2269771,\n        \"num_unique_values\": 1,\n        \"samples\": [\n          2269771\n        ],\n        \"semantic_type\": \"\",\n        \"description\": \"\"\n      }\n    },\n    {\n      \"column\": \"total_sents\",\n      \"properties\": {\n        \"dtype\": \"number\",\n        \"std\": 0,\n        \"min\": 75883,\n        \"max\": 75883,\n        \"num_unique_values\": 1,\n        \"samples\": [\n          75883\n        ],\n        \"semantic_type\": \"\",\n        \"description\": \"\"\n      }\n    }\n  ]\n}"
            }
          },
          "metadata": {},
          "execution_count": 32
        }
      ],
      "source": [
        "#some dataframe examples\n",
        "df['total_words'] = df['num_words'].sum()\n",
        "df['total_sents'] = df['num_sentences'].sum()\n",
        "#print('Total Words: ',df['total_words'][0])\n",
        "#print('Total Sentences: ',df['total_sents'][0])\n",
        "df"
      ]
    },
    {
      "cell_type": "code",
      "source": [
        "#@title plot genres\n",
        "import matplotlib.pyplot as plt\n",
        "\n",
        "# create a list of genre labels\n",
        "labels = df['genre'].tolist()\n",
        "\n",
        "# calculate the percentage of num_words for each genre\n",
        "percentages = (df['num_words'] / df['total_words']) * 100\n",
        "\n",
        "# create a pie chart\n",
        "plt.pie(percentages, labels=labels, autopct='%1.1f%%')\n",
        "\n",
        "# add a title to the chart\n",
        "plt.title('Percentage of Tokens by Genre')\n",
        "\n",
        "# show the chart\n",
        "plt.show()"
      ],
      "metadata": {
        "colab": {
          "base_uri": "https://localhost:8080/",
          "height": 428
        },
        "id": "K_vvgVIM89wA",
        "outputId": "e9654034-9ae9-479a-dedd-00891d391083"
      },
      "execution_count": null,
      "outputs": [
        {
          "output_type": "display_data",
          "data": {
            "text/plain": [
              "<Figure size 640x480 with 1 Axes>"
            ],
            "image/png": "[encoded data removed]"
          },
          "metadata": {}
        }
      ]
    },
    {
      "cell_type": "code",
      "execution_count": null,
      "metadata": {
        "colab": {
          "base_uri": "https://localhost:8080/"
        },
        "id": "bwC5Hi3pg1k-",
        "outputId": "ed31b950-3c13-4eae-914a-fc8ce4cb42ad"
      },
      "outputs": [
        {
          "output_type": "stream",
          "name": "stdout",
          "text": [
            "[['Ndị', 'na', '-', 'ere', 'ngwa', 'nri', 'akwaala', 'arịrị', 'njọahịa', 'na', '-', 'eme', 'n', \"'\", 'ihi', 'ụkọ', 'ego', 'ọhụrụ', 'dị', 'na', 'Naịjirịa', 'ugbua', '.'], ['Esemokwu', 'na', 'ịgba', 'akwụkwọ', 'ka', 'na', '-', 'arị', 'ibe', 'ya', 'elu', 'dịka', 'a', 'na', '-', 'akwado', 'ịzọ', 'ọkwa', 'Gọvanọ', 'na', 'ntuliaka', 'na', '-', 'abịa', '.'], ...]\n"
          ]
        }
      ],
      "source": [
        "#@title print sentences of akuko corpus\n",
        "print(IGBO.sents('news/akuko.txt'))\n"
      ]
    },
    {
      "cell_type": "code",
      "execution_count": null,
      "metadata": {
        "colab": {
          "base_uri": "https://localhost:8080/"
        },
        "id": "EQeFupFlhbx-",
        "outputId": "49972f9d-cd74-4108-b809-5ed1848430bb"
      },
      "outputs": [
        {
          "output_type": "stream",
          "name": "stdout",
          "text": [
            "['Ndị', 'na', '-', 'ere', 'ngwa', 'nri', 'akwaala', ...]\n"
          ]
        }
      ],
      "source": [
        "#print akuko corpus words\n",
        "print(IGBO.words('news/akuko.txt'))\n"
      ]
    },
    {
      "cell_type": "code",
      "execution_count": null,
      "metadata": {
        "id": "MyvrWknxZRFU",
        "colab": {
          "base_uri": "https://localhost:8080/",
          "height": 424
        },
        "outputId": "15563a78-3ae7-4003-c831-acde316e0377"
      },
      "outputs": [
        {
          "output_type": "execute_result",
          "data": {
            "text/plain": [
              "          akuko_words\n",
              "0           athletics\n",
              "1              akọọrọ\n",
              "2             akụnaba\n",
              "3              mamịrị\n",
              "4             ọkụtoba\n",
              "...               ...\n",
              "12597         jidekwa\n",
              "12598           ejibụ\n",
              "12599       ọkporoụzọ\n",
              "12600          ifeany\n",
              "12601  egbochitụbeghi\n",
              "\n",
              "[12602 rows x 1 columns]"
            ],
            "text/html": [
              "\n",
              "  <div id=\"df-269a7d18-0a0f-4b60-8091-010951588087\" class=\"colab-df-container\">\n",
              "    <div>\n",
              "<style scoped>\n",
              "    .dataframe tbody tr th:only-of-type {\n",
              "        vertical-align: middle;\n",
              "    }\n",
              "\n",
              "    .dataframe tbody tr th {\n",
              "        vertical-align: top;\n",
              "    }\n",
              "\n",
              "    .dataframe thead th {\n",
              "        text-align: right;\n",
              "    }\n",
              "</style>\n",
              "<table border=\"1\" class=\"dataframe\">\n",
              "  <thead>\n",
              "    <tr style=\"text-align: right;\">\n",
              "      <th></th>\n",
              "      <th>akuko_words</th>\n",
              "    </tr>\n",
              "  </thead>\n",
              "  <tbody>\n",
              "    <tr>\n",
              "      <th>0</th>\n",
              "      <td>athletics</td>\n",
              "    </tr>\n",
              "    <tr>\n",
              "      <th>1</th>\n",
              "      <td>akọọrọ</td>\n",
              "    </tr>\n",
              "    <tr>\n",
              "      <th>2</th>\n",
              "      <td>akụnaba</td>\n",
              "    </tr>\n",
              "    <tr>\n",
              "      <th>3</th>\n",
              "      <td>mamịrị</td>\n",
              "    </tr>\n",
              "    <tr>\n",
              "      <th>4</th>\n",
              "      <td>ọkụtoba</td>\n",
              "    </tr>\n",
              "    <tr>\n",
              "      <th>...</th>\n",
              "      <td>...</td>\n",
              "    </tr>\n",
              "    <tr>\n",
              "      <th>12597</th>\n",
              "      <td>jidekwa</td>\n",
              "    </tr>\n",
              "    <tr>\n",
              "      <th>12598</th>\n",
              "      <td>ejibụ</td>\n",
              "    </tr>\n",
              "    <tr>\n",
              "      <th>12599</th>\n",
              "      <td>ọkporoụzọ</td>\n",
              "    </tr>\n",
              "    <tr>\n",
              "      <th>12600</th>\n",
              "      <td>ifeany</td>\n",
              "    </tr>\n",
              "    <tr>\n",
              "      <th>12601</th>\n",
              "      <td>egbochitụbeghi</td>\n",
              "    </tr>\n",
              "  </tbody>\n",
              "</table>\n",
              "<p>12602 rows × 1 columns</p>\n",
              "</div>\n",
              "    <div class=\"colab-df-buttons\">\n",
              "\n",
              "  <div class=\"colab-df-container\">\n",
              "    <button class=\"colab-df-convert\" onclick=\"convertToInteractive('df-269a7d18-0a0f-4b60-8091-010951588087')\"\n",
              "            title=\"Convert this dataframe to an interactive table.\"\n",
              "            style=\"display:none;\">\n",
              "\n",
              "  <svg xmlns=\"http://www.w3.org/2000/svg\" height=\"24px\" viewBox=\"0 -960 960 960\">\n",
              "    <path d=\"M120-120v-720h720v720H120Zm60-500h600v-160H180v160Zm220 220h160v-160H400v160Zm0 220h160v-160H400v160ZM180-400h160v-160H180v160Zm440 0h160v-160H620v160ZM180-180h160v-160H180v160Zm440 0h160v-160H620v160Z\"/>\n",
              "  </svg>\n",
              "    </button>\n",
              "\n",
              "  <style>\n",
              "    .colab-df-container {\n",
              "      display:flex;\n",
              "      gap: 12px;\n",
              "    }\n",
              "\n",
              "    .colab-df-convert {\n",
              "      background-color: #E8F0FE;\n",
              "      border: none;\n",
              "      border-radius: 50%;\n",
              "      cursor: pointer;\n",
              "      display: none;\n",
              "      fill: #1967D2;\n",
              "      height: 32px;\n",
              "      padding: 0 0 0 0;\n",
              "      width: 32px;\n",
              "    }\n",
              "\n",
              "    .colab-df-convert:hover {\n",
              "      background-color: #E2EBFA;\n",
              "      box-shadow: 0px 1px 2px rgba(60, 64, 67, 0.3), 0px 1px 3px 1px rgba(60, 64, 67, 0.15);\n",
              "      fill: #174EA6;\n",
              "    }\n",
              "\n",
              "    .colab-df-buttons div {\n",
              "      margin-bottom: 4px;\n",
              "    }\n",
              "\n",
              "    [theme=dark] .colab-df-convert {\n",
              "      background-color: #3B4455;\n",
              "      fill: #D2E3FC;\n",
              "    }\n",
              "\n",
              "    [theme=dark] .colab-df-convert:hover {\n",
              "      background-color: #434B5C;\n",
              "      box-shadow: 0px 1px 3px 1px rgba(0, 0, 0, 0.15);\n",
              "      filter: drop-shadow(0px 1px 2px rgba(0, 0, 0, 0.3));\n",
              "      fill: #FFFFFF;\n",
              "    }\n",
              "  </style>\n",
              "\n",
              "    <script>\n",
              "      const buttonEl =\n",
              "        document.querySelector('#df-269a7d18-0a0f-4b60-8091-010951588087 button.colab-df-convert');\n",
              "      buttonEl.style.display =\n",
              "        google.colab.kernel.accessAllowed ? 'block' : 'none';\n",
              "\n",
              "      async function convertToInteractive(key) {\n",
              "        const element = document.querySelector('#df-269a7d18-0a0f-4b60-8091-010951588087');\n",
              "        const dataTable =\n",
              "          await google.colab.kernel.invokeFunction('convertToInteractive',\n",
              "                                                    [key], {});\n",
              "        if (!dataTable) return;\n",
              "\n",
              "        const docLinkHtml = 'Like what you see? Visit the ' +\n",
              "          '<a target=\"_blank\" href=https://colab.research.google.com/notebooks/data_table.ipynb>data table notebook</a>'\n",
              "          + ' to learn more about interactive tables.';\n",
              "        element.innerHTML = '';\n",
              "        dataTable['output_type'] = 'display_data';\n",
              "        await google.colab.output.renderOutput(dataTable, element);\n",
              "        const docLink = document.createElement('div');\n",
              "        docLink.innerHTML = docLinkHtml;\n",
              "        element.appendChild(docLink);\n",
              "      }\n",
              "    </script>\n",
              "  </div>\n",
              "\n",
              "\n",
              "<div id=\"df-5daf970b-ed8f-4fe4-9856-15aca6142f80\">\n",
              "  <button class=\"colab-df-quickchart\" onclick=\"quickchart('df-5daf970b-ed8f-4fe4-9856-15aca6142f80')\"\n",
              "            title=\"Suggest charts\"\n",
              "            style=\"display:none;\">\n",
              "\n",
              "<svg xmlns=\"http://www.w3.org/2000/svg\" height=\"24px\"viewBox=\"0 0 24 24\"\n",
              "     width=\"24px\">\n",
              "    <g>\n",
              "        <path d=\"M19 3H5c-1.1 0-2 .9-2 2v14c0 1.1.9 2 2 2h14c1.1 0 2-.9 2-2V5c0-1.1-.9-2-2-2zM9 17H7v-7h2v7zm4 0h-2V7h2v10zm4 0h-2v-4h2v4z\"/>\n",
              "    </g>\n",
              "</svg>\n",
              "  </button>\n",
              "\n",
              "<style>\n",
              "  .colab-df-quickchart {\n",
              "      --bg-color: #E8F0FE;\n",
              "      --fill-color: #1967D2;\n",
              "      --hover-bg-color: #E2EBFA;\n",
              "      --hover-fill-color: #174EA6;\n",
              "      --disabled-fill-color: #AAA;\n",
              "      --disabled-bg-color: #DDD;\n",
              "  }\n",
              "\n",
              "  [theme=dark] .colab-df-quickchart {\n",
              "      --bg-color: #3B4455;\n",
              "      --fill-color: #D2E3FC;\n",
              "      --hover-bg-color: #434B5C;\n",
              "      --hover-fill-color: #FFFFFF;\n",
              "      --disabled-bg-color: #3B4455;\n",
              "      --disabled-fill-color: #666;\n",
              "  }\n",
              "\n",
              "  .colab-df-quickchart {\n",
              "    background-color: var(--bg-color);\n",
              "    border: none;\n",
              "    border-radius: 50%;\n",
              "    cursor: pointer;\n",
              "    display: none;\n",
              "    fill: var(--fill-color);\n",
              "    height: 32px;\n",
              "    padding: 0;\n",
              "    width: 32px;\n",
              "  }\n",
              "\n",
              "  .colab-df-quickchart:hover {\n",
              "    background-color: var(--hover-bg-color);\n",
              "    box-shadow: 0 1px 2px rgba(60, 64, 67, 0.3), 0 1px 3px 1px rgba(60, 64, 67, 0.15);\n",
              "    fill: var(--button-hover-fill-color);\n",
              "  }\n",
              "\n",
              "  .colab-df-quickchart-complete:disabled,\n",
              "  .colab-df-quickchart-complete:disabled:hover {\n",
              "    background-color: var(--disabled-bg-color);\n",
              "    fill: var(--disabled-fill-color);\n",
              "    box-shadow: none;\n",
              "  }\n",
              "\n",
              "  .colab-df-spinner {\n",
              "    border: 2px solid var(--fill-color);\n",
              "    border-color: transparent;\n",
              "    border-bottom-color: var(--fill-color);\n",
              "    animation:\n",
              "      spin 1s steps(1) infinite;\n",
              "  }\n",
              "\n",
              "  @keyframes spin {\n",
              "    0% {\n",
              "      border-color: transparent;\n",
              "      border-bottom-color: var(--fill-color);\n",
              "      border-left-color: var(--fill-color);\n",
              "    }\n",
              "    20% {\n",
              "      border-color: transparent;\n",
              "      border-left-color: var(--fill-color);\n",
              "      border-top-color: var(--fill-color);\n",
              "    }\n",
              "    30% {\n",
              "      border-color: transparent;\n",
              "      border-left-color: var(--fill-color);\n",
              "      border-top-color: var(--fill-color);\n",
              "      border-right-color: var(--fill-color);\n",
              "    }\n",
              "    40% {\n",
              "      border-color: transparent;\n",
              "      border-right-color: var(--fill-color);\n",
              "      border-top-color: var(--fill-color);\n",
              "    }\n",
              "    60% {\n",
              "      border-color: transparent;\n",
              "      border-right-color: var(--fill-color);\n",
              "    }\n",
              "    80% {\n",
              "      border-color: transparent;\n",
              "      border-right-color: var(--fill-color);\n",
              "      border-bottom-color: var(--fill-color);\n",
              "    }\n",
              "    90% {\n",
              "      border-color: transparent;\n",
              "      border-bottom-color: var(--fill-color);\n",
              "    }\n",
              "  }\n",
              "</style>\n",
              "\n",
              "  <script>\n",
              "    async function quickchart(key) {\n",
              "      const quickchartButtonEl =\n",
              "        document.querySelector('#' + key + ' button');\n",
              "      quickchartButtonEl.disabled = true;  // To prevent multiple clicks.\n",
              "      quickchartButtonEl.classList.add('colab-df-spinner');\n",
              "      try {\n",
              "        const charts = await google.colab.kernel.invokeFunction(\n",
              "            'suggestCharts', [key], {});\n",
              "      } catch (error) {\n",
              "        console.error('Error during call to suggestCharts:', error);\n",
              "      }\n",
              "      quickchartButtonEl.classList.remove('colab-df-spinner');\n",
              "      quickchartButtonEl.classList.add('colab-df-quickchart-complete');\n",
              "    }\n",
              "    (() => {\n",
              "      let quickchartButtonEl =\n",
              "        document.querySelector('#df-5daf970b-ed8f-4fe4-9856-15aca6142f80 button');\n",
              "      quickchartButtonEl.style.display =\n",
              "        google.colab.kernel.accessAllowed ? 'block' : 'none';\n",
              "    })();\n",
              "  </script>\n",
              "</div>\n",
              "\n",
              "  <div id=\"id_43a96694-6582-4afd-b294-f2ebfd500dcf\">\n",
              "    <style>\n",
              "      .colab-df-generate {\n",
              "        background-color: #E8F0FE;\n",
              "        border: none;\n",
              "        border-radius: 50%;\n",
              "        cursor: pointer;\n",
              "        display: none;\n",
              "        fill: #1967D2;\n",
              "        height: 32px;\n",
              "        padding: 0 0 0 0;\n",
              "        width: 32px;\n",
              "      }\n",
              "\n",
              "      .colab-df-generate:hover {\n",
              "        background-color: #E2EBFA;\n",
              "        box-shadow: 0px 1px 2px rgba(60, 64, 67, 0.3), 0px 1px 3px 1px rgba(60, 64, 67, 0.15);\n",
              "        fill: #174EA6;\n",
              "      }\n",
              "\n",
              "      [theme=dark] .colab-df-generate {\n",
              "        background-color: #3B4455;\n",
              "        fill: #D2E3FC;\n",
              "      }\n",
              "\n",
              "      [theme=dark] .colab-df-generate:hover {\n",
              "        background-color: #434B5C;\n",
              "        box-shadow: 0px 1px 3px 1px rgba(0, 0, 0, 0.15);\n",
              "        filter: drop-shadow(0px 1px 2px rgba(0, 0, 0, 0.3));\n",
              "        fill: #FFFFFF;\n",
              "      }\n",
              "    </style>\n",
              "    <button class=\"colab-df-generate\" onclick=\"generateWithVariable('akuko_words')\"\n",
              "            title=\"Generate code using this dataframe.\"\n",
              "            style=\"display:none;\">\n",
              "\n",
              "  <svg xmlns=\"http://www.w3.org/2000/svg\" height=\"24px\"viewBox=\"0 0 24 24\"\n",
              "       width=\"24px\">\n",
              "    <path d=\"M7,19H8.4L18.45,9,17,7.55,7,17.6ZM5,21V16.75L18.45,3.32a2,2,0,0,1,2.83,0l1.4,1.43a1.91,1.91,0,0,1,.58,1.4,1.91,1.91,0,0,1-.58,1.4L9.25,21ZM18.45,9,17,7.55Zm-12,3A5.31,5.31,0,0,0,4.9,8.1,5.31,5.31,0,0,0,1,6.5,5.31,5.31,0,0,0,4.9,4.9,5.31,5.31,0,0,0,6.5,1,5.31,5.31,0,0,0,8.1,4.9,5.31,5.31,0,0,0,12,6.5,5.46,5.46,0,0,0,6.5,12Z\"/>\n",
              "  </svg>\n",
              "    </button>\n",
              "    <script>\n",
              "      (() => {\n",
              "      const buttonEl =\n",
              "        document.querySelector('#id_43a96694-6582-4afd-b294-f2ebfd500dcf button.colab-df-generate');\n",
              "      buttonEl.style.display =\n",
              "        google.colab.kernel.accessAllowed ? 'block' : 'none';\n",
              "\n",
              "      buttonEl.onclick = () => {\n",
              "        google.colab.notebook.generateWithVariable('akuko_words');\n",
              "      }\n",
              "      })();\n",
              "    </script>\n",
              "  </div>\n",
              "\n",
              "    </div>\n",
              "  </div>\n"
            ],
            "application/vnd.google.colaboratory.intrinsic+json": {
              "type": "dataframe",
              "variable_name": "akuko_words",
              "summary": "{\n  \"name\": \"akuko_words\",\n  \"rows\": 12602,\n  \"fields\": [\n    {\n      \"column\": \"akuko_words\",\n      \"properties\": {\n        \"dtype\": \"string\",\n        \"num_unique_values\": 12602,\n        \"samples\": [\n          \"n\\u1ecdchitere\",\n          \"\\u1ee5b\\u1ecdch\\u1ee5ka\",\n          \"rijuru\"\n        ],\n        \"semantic_type\": \"\",\n        \"description\": \"\"\n      }\n    }\n  ]\n}"
            }
          },
          "metadata": {},
          "execution_count": 37
        }
      ],
      "source": [
        "#@title A sample way to export list of unique words from akuko corpus\n",
        "\n",
        "words = IGBO.words('news/akuko.txt')\n",
        "words = list(set([word.lower() for word in words if word.isalpha()]))\n",
        "\n",
        "akuko_words = pd.DataFrame({'akuko_words':words})\n",
        "#akuko_words.to_csv('words.txt', header=None, index=None, sep=' ', mode='a')\n",
        "akuko_words"
      ]
    },
    {
      "cell_type": "code",
      "execution_count": null,
      "metadata": {
        "id": "u0S6IkZ9wvO6"
      },
      "outputs": [],
      "source": [
        "#@title Corpus Loader (here example is akuko from BBC)\n",
        "#@title Load the Corpus to use for Neural Network Task\n",
        "corpus = \"Igbo/news/akuko.txt\" # replace with your own corpus file name\n",
        "with open(corpus, 'r', encoding='utf-8') as f:\n",
        "    text = f.read()"
      ]
    },
    {
      "cell_type": "code",
      "execution_count": null,
      "metadata": {
        "colab": {
          "base_uri": "https://localhost:8080/",
          "height": 472
        },
        "id": "pTYSFLii3mH9",
        "outputId": "0329db4d-7338-4269-90af-f6df3f157eef"
      },
      "outputs": [
        {
          "output_type": "display_data",
          "data": {
            "text/plain": [
              "<Figure size 640x480 with 1 Axes>"
            ],
            "image/png": "[encoded data removed]"
          },
          "metadata": {}
        }
      ],
      "source": [
        "#@title Dispersion Plot on some words in Akuko corpus\n",
        "# Tokenize the text into words\n",
        "tokens = nltk.word_tokenize(text)\n",
        "\n",
        "# Create a Text object from the tokens\n",
        "text_obj = Text(tokens)\n",
        "\n",
        "# Generate the dispersion plot\n",
        "text_obj.dispersion_plot([\"Ndị\", \"ngwa\", \"Naịjirịa\", \"akwụkwọ\", \"dịka\"])\n"
      ]
    },
    {
      "cell_type": "code",
      "execution_count": null,
      "metadata": {
        "colab": {
          "base_uri": "https://localhost:8080/"
        },
        "id": "DwcB8q2IxQ38",
        "outputId": "0b0cb5bb-799c-4dd7-db9a-51d548b41f59"
      },
      "outputs": [
        {
          "output_type": "stream",
          "name": "stdout",
          "text": [
            "Displaying 25 of 6255 matches:\n",
            " Ndị na - ere ngwa nri akwaala arịrị njọah\n",
            "teetị agbarụọla ihu n ' atụmatụ ụfọdụ ndị Ugwu chọrọ ichi ' Emir nke Aba '. Ọnụ\n",
            "chọrọ ichi ' Emir nke Aba '. Ọnụọgụgụ ndị nwụrụ n ' ihe mberede ala ọma jijiji \n",
            " ochie ma bido inye ego ọhụrụ , ọtụtụ ndị mmadụ nọ n ' ahụhu dịka ụkọ ego so ya\n",
            "it at home , unknown gunmen nakwa ihe ndị ọzọ na - echegbu ọwụwa anyanwụ ugbua \n",
            "a ụlọikpe enyela iwu ka a tọhapụ ya . Ndị mmadụ na - akatọ Bishop Christian Ony\n",
            "PDP zọọ ọkwa Gọvanọ Abia Steeti Ụfọdụ ndị ntoroọbịa Naịjirịa akọwaala ihe mere \n",
            "he n ' ọkwa Onyeisiala nwechara ebubo ndị e boro ha banyere akụnaụba ha . Dịka \n",
            " n ' afọ 2021 bụ ISWA , Boko Haram na ndị Ipob . Ọtụtụ ego naịra adigboroja na \n",
            "titi wepụtara ego naịra ọhụrụ . Ọtụtụ ndị merụrụ ahụ n ' ogunigwe gbara na Kano\n",
            "ụ abụọ siri hapụ ndụ ha na - ebi dịka ndị ụkọchukwu mgbe ha hụrụ onwe ha Lee ụf\n",
            "chukwu mgbe ha hụrụ onwe ha Lee ụfọdụ ndị ọgbaa bọọlụ Afrịka nakwa nna ha gbakw\n",
            "ọgba mbọ nke izu a . Chuks Ekwueme na ndị otu ya rụpụtara akụrụngwa ome ka mmad\n",
            "gaghịdị ya bụ asọmpi nchancha . Ọtụtụ ndị mmadụ na - akatọ uweojii nke Emir nke\n",
            "kpomọkụ n ' ime ọgbọegwuregwu . Ọtụtụ ndị ama ama n ' egwuregwu bọọlụ ga - alag\n",
            "C anaghị ahụta maka ọdịnaya nke saịtị ndị dị na mpụga . Usoro anyị maka njikọ d\n",
            "ka ụlọakụ bido inye ego ọhụrụ , ọtụtụ ndị Naijirịa ejirila anya ha hụ ntị ha . \n",
            "BN wepụtara butere ntaram ahụhụ nyere ndị Naijirịa dịka ụkọ ego ọhụrụ a dị . BB\n",
            "ụwa Anyanwụ dị iche iche iji hụta etu ndị mmadụ si ebi dịka ụkọ ego a na - enye\n",
            "onye ji POS achụnta ego kwuru na ọ bụ ndị ọzọ jikwa ego achụnta ego na - eresi \n",
            " N10 , 000 ka otu ụlọakụ na - enye ha ndị ahịa ya , ma sị na nke ahụ anaghị ezu\n",
            "e ahụ anaghị ezuru ha . Ọ sị na ụfọdụ ndị mmadụ na - eji akụnaụba ndị ọzọ ha nw\n",
            " na ụfọdụ ndị mmadụ na - eji akụnaụba ndị ọzọ ha nwe na - abụghị ego agba mgber\n",
            "sị , \" Lee anya , ị ga - ahụ na ọtụtụ ndị mmadụ kwụ n ' ahịrị eche ka ha were e\n",
            "ọtụtụ ụlọakụ enweghị ego ha na - enye ndị mmadụ na steeti ahụ . Nke a mere ka ọ\n"
          ]
        }
      ],
      "source": [
        "#@title Concordance Use\n",
        "#A concordance view shows us every occurrence of a given word, together with some context.\n",
        "# Load the text you want to generate a concordance for\n",
        "text_words = Text(IGBO.words('news/akuko.txt'))\n",
        "\n",
        "# Generate the concordance for the word \"Ndị\"\n",
        "text_words.concordance('Ndị')\n"
      ]
    },
    {
      "cell_type": "code",
      "execution_count": null,
      "metadata": {
        "colab": {
          "base_uri": "https://localhost:8080/"
        },
        "id": "cJmtlMWSyIqf",
        "outputId": "1d3c1902-a9db-4918-cd3d-bcc7b1dfbc45"
      },
      "outputs": [
        {
          "output_type": "stream",
          "name": "stdout",
          "text": [
            "ndị mmadụ; Peter Obi; Nnamdi Kanu; BBC Igbo; soshal midia; anaghị\n",
            "ahụta; Getty Images; Ebe foto; Ọwụwa Anyanwụ; Usoro anyị; ndị uweojii;\n",
            "maka ọdịnaya; maka njikọ; ndị ọzọ; nke ọnwa; BBC anaghị; ahụta maka;\n",
            "nke saịtị; ọdịnaya nke; iche iche\n"
          ]
        }
      ],
      "source": [
        "#@title Collocations use\n",
        "#A collocation is a sequence of words that occur together unusually often\n",
        "text_words.collocations()"
      ]
    },
    {
      "cell_type": "code",
      "execution_count": null,
      "metadata": {
        "colab": {
          "base_uri": "https://localhost:8080/",
          "height": 545
        },
        "id": "y8RrVdIA1T_5",
        "outputId": "85a65430-d1fd-47d9-fcfb-8b994860d019"
      },
      "outputs": [
        {
          "output_type": "display_data",
          "data": {
            "text/plain": [
              "<Figure size 640x480 with 1 Axes>"
            ],
            "image/png": "[encoded data removed]"
          },
          "metadata": {}
        }
      ],
      "source": [
        "# Tokenize the text into words\n",
        "tokens = nltk.word_tokenize(text)\n",
        "\n",
        "# Identify the collocations in the text\n",
        "bigram_measures = BigramAssocMeasures()\n",
        "finder = BigramCollocationFinder.from_words(tokens)\n",
        "collocations = finder.nbest(bigram_measures.raw_freq, 20)\n",
        "\n",
        "# Calculate the frequency distribution of each collocation\n",
        "collocation_freqs = []\n",
        "for collocation in collocations:\n",
        "    freq = FreqDist(nltk.bigrams(tokens)).freq(collocation)\n",
        "    collocation_freqs.append(freq)\n",
        "\n",
        "# Plot the collocation frequencies\n",
        "plt.bar([str(collocation) for collocation in collocations], collocation_freqs)\n",
        "plt.xticks(rotation=45, ha='right')\n",
        "plt.xlabel('Collocations')\n",
        "plt.ylabel('Frequency')\n",
        "plt.title('Top 20 Collocations')\n",
        "plt.show()\n"
      ]
    },
    {
      "cell_type": "code",
      "execution_count": null,
      "metadata": {
        "colab": {
          "base_uri": "https://localhost:8080/"
        },
        "id": "eh7oxtJEzrhJ",
        "outputId": "268f7114-88d8-4181-c618-e6fa0b1271a2"
      },
      "outputs": [
        {
          "output_type": "stream",
          "name": "stdout",
          "text": [
            "[(('kwuru', 'na'), 888), (('na', 'ọ'), 886), (('ya', 'bụ'), 685), (('na', 'ndị'), 660), (('ndị', 'mmadụ'), 580), (('ọ', 'bụ'), 577), (('dị', 'na'), 575), (('sị', 'na'), 453), (('na', 'ha'), 426), (('ya', 'na'), 352)]\n"
          ]
        }
      ],
      "source": [
        "#@title Bigrams Use\n",
        "# Load the corpus text\n",
        "bigram_text = text\n",
        "\n",
        "# Generate a list of bigrams in the text\n",
        "bigrams = list(ngrams(bigram_text.split(), 2))\n",
        "\n",
        "# Count the frequency of each bigram\n",
        "freq_dist = nltk.FreqDist(bigrams)\n",
        "\n",
        "# Print the 10 most common bigrams\n",
        "print(freq_dist.most_common(10))\n"
      ]
    },
    {
      "cell_type": "code",
      "execution_count": null,
      "metadata": {
        "colab": {
          "base_uri": "https://localhost:8080/",
          "height": 583
        },
        "id": "mcMae7li0hNc",
        "outputId": "15c97824-fdeb-49e3-bd45-9e12e6fceea4"
      },
      "outputs": [
        {
          "output_type": "display_data",
          "data": {
            "text/plain": [
              "<Figure size 1000x500 with 1 Axes>"
            ],
            "image/png": "[encoded data removed]"
          },
          "metadata": {}
        }
      ],
      "source": [
        "# Plot the frequency distribution of the 20 most common bigrams\n",
        "plt.figure(figsize=(10, 5))\n",
        "plt.title('frequency distribution of the 20 most common bigrams')\n",
        "freq_dist.plot(20)\n",
        "plt.show()"
      ]
    },
    {
      "cell_type": "code",
      "execution_count": null,
      "metadata": {
        "id": "ej-wtflf6F5R"
      },
      "outputs": [],
      "source": [
        "#@title some text analysis\n",
        "#lexical diversity, A higher ratio of unique words to total words indicates that the text uses a greater variety of vocabulary, while a lower ratio indicates that the text uses a more limited vocabulary.\n",
        "def lexical_diversity(text):\n",
        "  return (len(set(text)) /len(text))\n",
        "\n",
        "#percentage of a word in a text\n",
        "def percentage(count, total):\n",
        "  return(round((100 * count / total),2))"
      ]
    },
    {
      "cell_type": "code",
      "execution_count": null,
      "metadata": {
        "colab": {
          "base_uri": "https://localhost:8080/"
        },
        "id": "6KDnukz86xGT",
        "outputId": "c2f85238-6f80-4794-b704-1f4d4770ebd8"
      },
      "outputs": [
        {
          "output_type": "stream",
          "name": "stdout",
          "text": [
            "Lexical Diversity:  0.00011241359838542702\n",
            "Percentage the word - ndị - is in the text:  0.51 %\n"
          ]
        }
      ],
      "source": [
        "#@title Lexical Diversity and Percentage of a word ndị in the text\n",
        "print(\"Lexical Diversity: \",lexical_diversity(text))\n",
        "print(\"Percentage the word - ndị - is in the text: \",percentage(text.count('ndị'), len(text)),\"%\")\n"
      ]
    },
    {
      "cell_type": "code",
      "execution_count": null,
      "metadata": {
        "colab": {
          "base_uri": "https://localhost:8080/"
        },
        "id": "BL1Tf25b8VQl",
        "outputId": "2c5c9fe8-7409-4b55-b7b5-3b6a8f848915"
      },
      "outputs": [
        {
          "output_type": "execute_result",
          "data": {
            "text/plain": [
              "FreqDist({'na': 10310, '.': 7578, ',': 6885, 'ndị': 5733, 'ya': 4977, 'bụ': 4657, 'ha': 3774, 'a': 3619, 'nke': 3324, 'ọ': 2714, ...})"
            ]
          },
          "metadata": {},
          "execution_count": 76
        }
      ],
      "source": [
        "#@title most frequent tokens\n",
        "tokens = nltk.word_tokenize(text)\n",
        "fdist1 = FreqDist(tokens)\n",
        "fdist1"
      ]
    },
    {
      "cell_type": "code",
      "execution_count": null,
      "metadata": {
        "colab": {
          "base_uri": "https://localhost:8080/",
          "height": 512
        },
        "id": "JELOiaxs8q6U",
        "outputId": "9b53349c-8e3d-42c4-d092-9fd7ffaa48bf"
      },
      "outputs": [
        {
          "output_type": "display_data",
          "data": {
            "text/plain": [
              "<Figure size 1000x500 with 1 Axes>"
            ],
            "image/png": "[encoded data removed]"
          },
          "metadata": {}
        }
      ],
      "source": [
        "plt.figure(figsize=(10, 5))\n",
        "plt.title('frequency distribution of the 20 most common tokens')\n",
        "fdist1.plot(20)\n",
        "plt.show()"
      ]
    },
    {
      "cell_type": "markdown",
      "source": [
        "# Text Categorization Section"
      ],
      "metadata": {
        "id": "GKBcHIXDi5_N"
      }
    },
    {
      "cell_type": "markdown",
      "source": [
        "## Topic Modeling"
      ],
      "metadata": {
        "id": "IVmkOzeeElNK"
      }
    },
    {
      "cell_type": "code",
      "source": [
        "!pip install gensim"
      ],
      "metadata": {
        "colab": {
          "base_uri": "https://localhost:8080/"
        },
        "id": "ueqHtW_OEp6G",
        "outputId": "2673abfa-3715-4369-a18a-1774272cf097"
      },
      "execution_count": null,
      "outputs": [
        {
          "output_type": "stream",
          "name": "stdout",
          "text": [
            "Requirement already satisfied: gensim in /usr/local/lib/python3.10/dist-packages (4.3.2)\n",
            "Requirement already satisfied: numpy>=1.18.5 in /usr/local/lib/python3.10/dist-packages (from gensim) (1.25.2)\n",
            "Requirement already satisfied: scipy>=1.7.0 in /usr/local/lib/python3.10/dist-packages (from gensim) (1.11.4)\n",
            "Requirement already satisfied: smart-open>=1.8.1 in /usr/local/lib/python3.10/dist-packages (from gensim) (6.4.0)\n"
          ]
        }
      ]
    },
    {
      "cell_type": "code",
      "source": [
        "import gensim\n",
        "from gensim.corpora import Dictionary\n",
        "from gensim.models import LdaModel\n",
        "#corpus = \"Igbo/bbc_news/akuko.txt\" # replace with your own corpus file name\n",
        "#with open(corpus, 'r', encoding='utf-8') as f:\n",
        "#    text = f.read()\n",
        "\n",
        "# Load the corpus from a file\n",
        "corpus_file = \"Igbo/news/akuko.txt\"  # Replace with the actual path to your Igbo corpus file\n",
        "with open(corpus_file, \"r\", encoding = 'utf-8') as file:\n",
        "    corpus_content = file.readlines()\n",
        "\n",
        "# Tokenize the documents\n",
        "tokenized_documents = [document.strip().split() for document in corpus_content]\n",
        "\n",
        "# Create a dictionary\n",
        "dictionary = Dictionary(tokenized_documents)\n",
        "\n",
        "# Filter out rare and common words\n",
        "dictionary.filter_extremes(no_below=9, no_above=0.1)\n",
        "\n",
        "# Create a bag-of-words representation of the documents\n",
        "bow_corpus = [dictionary.doc2bow(doc) for doc in tokenized_documents]\n",
        "\n",
        "# Train the LDA model\n",
        "num_topics = 5  # Specify the number of topics to discover\n",
        "lda_model = LdaModel(bow_corpus, num_topics=num_topics, id2word=dictionary, passes=10)\n",
        "\n",
        "# Print the topics\n",
        "for topic_id in range(num_topics):\n",
        "    topic_words = lda_model.get_topic_terms(topic_id, topn=10)\n",
        "    words = [dictionary[word_id] for word_id, _ in topic_words]\n",
        "    print(f\"Topic {topic_id + 1}: {', '.join(words)}\")\n"
      ],
      "metadata": {
        "colab": {
          "base_uri": "https://localhost:8080/"
        },
        "id": "Vha805kAEcu6",
        "outputId": "3c41c344-d572-4af8-963b-bcdeb8863774"
      },
      "execution_count": null,
      "outputs": [
        {
          "output_type": "stream",
          "name": "stdout",
          "text": [
            "Topic 1: mba, ji, ọtụtụ, ego, afọ, Ọ, nakwa, n'afọ, mana, ụlọ\n",
            "Topic 2: Mbaka, Obi, Peter, anaghị, anyị, BBC, Fada, ụka, onyeisiala, ọkwa\n",
            "Topic 3: nwere, Igbo, okwu, Kanu, aka, anyị, ọrụ, ọbụla, ọchịchị, etu\n",
            "Topic 4: ntuliaka, ọkwa, steeti, ọnwa, afọ, Naịjirịa, iri, vootu, n'ụbọchị, onyeisiala\n",
            "Topic 5: m, uweojii, anyị, sị, nwaanyị, ya., ebubo, nwa, gwara, steeti\n"
          ]
        }
      ]
    },
    {
      "cell_type": "code",
      "source": [
        "#@title Determine which topic a sample sentence falls into\n",
        "# Sample sentence\n",
        "sample_sentence = \"Ego na-amasị m dị ka onye ndọrọ ndọrọ ọchịchị.\"\n",
        "#I like money as a politician.\n",
        "\n",
        "\n",
        "# Tokenize the sample sentence\n",
        "tokenized_sentence = sample_sentence.split()\n",
        "\n",
        "# Convert the tokenized sentence to a bag-of-words representation\n",
        "bow_sentence = dictionary.doc2bow(tokenized_sentence)\n",
        "\n",
        "# Infer the topic distribution for the sample sentence\n",
        "topic_distribution = lda_model.get_document_topics(bow_sentence)\n",
        "\n",
        "# Sort the topics by their probability in descending order\n",
        "sorted_topics = sorted(topic_distribution, key=lambda x: x[1], reverse=True)\n",
        "\n",
        "# Get the most probable topic and its corresponding probability\n",
        "most_probable_topic, probability = sorted_topics[0]\n",
        "\n",
        "# Print the results\n",
        "print(f\"Sample Sentence: {sample_sentence}\")\n",
        "print(f\"Most Probable Topic: {most_probable_topic}\")\n",
        "print(f\"Probability: {probability}\")\n",
        "\n",
        "#Topic 2: Topic 2: Mbaka, Obi, Peter, anaghị, anyị, BBC, Fada, ụka, onyeisiala, ọkwa\n"
      ],
      "metadata": {
        "colab": {
          "base_uri": "https://localhost:8080/"
        },
        "id": "gCzhmVrEM2cd",
        "outputId": "a76289f0-1e76-4e28-f40f-cda67f53b519"
      },
      "execution_count": null,
      "outputs": [
        {
          "output_type": "stream",
          "name": "stdout",
          "text": [
            "Sample Sentence: Ego na-amasị m dị ka onye ndọrọ ndọrọ ọchịchị.\n",
            "Most Probable Topic: 2\n",
            "Probability: 0.6978855133056641\n"
          ]
        }
      ]
    }
  ],
  "metadata": {
    "colab": {
      "provenance": []
    },
    "kernelspec": {
      "display_name": "Python 3",
      "name": "python3"
    },
    "language_info": {
      "name": "python"
    }
  },
  "nbformat": 4,
  "nbformat_minor": 0
}