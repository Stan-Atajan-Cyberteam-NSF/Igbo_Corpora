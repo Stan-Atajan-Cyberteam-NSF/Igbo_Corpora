{
  "nbformat": 4,
  "nbformat_minor": 0,
  "metadata": {
    "colab": {
      "provenance": []
    },
    "kernelspec": {
      "name": "python3",
      "display_name": "Python 3"
    },
    "language_info": {
      "name": "python"
    }
  },
  "cells": [
    {
      "cell_type": "code",
      "execution_count": null,
      "metadata": {
        "colab": {
          "base_uri": "https://localhost:8080/"
        },
        "id": "ugjKihppa8J0",
        "outputId": "7f0398a3-cdc2-4d88-9bb0-932c8af3f074"
      },
      "outputs": [
        {
          "output_type": "stream",
          "name": "stdout",
          "text": [
            "Looking in indexes: https://pypi.org/simple, https://us-python.pkg.dev/colab-wheels/public/simple/\n",
            "Collecting PyPDF2\n",
            "  Downloading pypdf2-3.0.1-py3-none-any.whl (232 kB)\n",
            "\u001b[2K     \u001b[90m━━━━━━━━━━━━━━━━━━━━━━━━━━━━━━━━━━━━━━\u001b[0m \u001b[32m232.6/232.6 KB\u001b[0m \u001b[31m11.1 MB/s\u001b[0m eta \u001b[36m0:00:00\u001b[0m\n",
            "\u001b[?25hRequirement already satisfied: typing_extensions>=3.10.0.0 in /usr/local/lib/python3.9/dist-packages (from PyPDF2) (4.5.0)\n",
            "Installing collected packages: PyPDF2\n",
            "Successfully installed PyPDF2-3.0.1\n"
          ]
        }
      ],
      "source": [
        "#@title English version Nigerian Constitution PDF to TXT\n",
        "#@title code to convert Nigeria's English Constitution to txt file\n",
        "# download pdf file from: https://www.constituteproject.org/constitution/Nigeria_2011.pdf\n",
        "# export will be under the folder on the left, if you dont see it, right click and refresh under the folder, not the web page.\n",
        "\n",
        "!pip install PyPDF2\n"
      ]
    },
    {
      "cell_type": "code",
      "source": [
        "import PyPDF2"
      ],
      "metadata": {
        "id": "Enk_AgzTbt3L"
      },
      "execution_count": null,
      "outputs": []
    },
    {
      "cell_type": "code",
      "source": [
        "# Open the PDF file\n",
        "pdf_file = open('Nigeria_1999-en.pdf', 'rb')\n",
        "\n",
        "# Create a PDF reader object\n",
        "pdf_reader = PyPDF2.PdfReader(pdf_file)\n",
        "\n",
        "# Initialize an empty string to hold the extracted text\n",
        "text = \"\"\n",
        "\n",
        "# Iterate through each page of the PDF file and extract the text\n",
        "for page_num in range(len(pdf_reader.pages)):\n",
        "    page = pdf_reader.pages[page_num]\n",
        "    text += page.extract_text()\n",
        "\n",
        "# Close the PDF file\n",
        "pdf_file.close()\n",
        "\n",
        "# Open a new TXT file and write the extracted text to it\n",
        "txt_file = open('example.txt', 'w', encoding='utf-8')\n",
        "txt_file.write(text)\n",
        "txt_file.close()"
      ],
      "metadata": {
        "id": "MiXH6q-2bnur"
      },
      "execution_count": null,
      "outputs": []
    },
    {
      "cell_type": "code",
      "source": [],
      "metadata": {
        "id": "pgtot6JecsFC"
      },
      "execution_count": null,
      "outputs": []
    }
  ]
}