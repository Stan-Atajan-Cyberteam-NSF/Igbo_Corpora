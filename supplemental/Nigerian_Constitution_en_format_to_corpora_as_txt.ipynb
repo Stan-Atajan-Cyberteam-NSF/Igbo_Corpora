{
  "nbformat": 4,
  "nbformat_minor": 0,
  "metadata": {
    "colab": {
      "provenance": []
    },
    "kernelspec": {
      "name": "python3",
      "display_name": "Python 3"
    },
    "language_info": {
      "name": "python"
    }
  },
  "cells": [
    {
      "cell_type": "code",
      "execution_count": null,
      "metadata": {
        "id": "-K_QdOqT0_GS"
      },
      "outputs": [],
      "source": [
        "#@title Convert Constitution to Corpora format\n",
        "import re\n",
        "\n",
        "# Read in the Constitution text file\n",
        "with open('Nigerian constitution-en.txt', 'r') as f:\n",
        "    text = f.read()\n",
        "\n",
        "# Replace line breaks with spaces\n",
        "text = re.sub(r'\\n', ' ', text)\n",
        "\n",
        "# Split the text into individual sentences\n",
        "sentences = []\n",
        "for sentence in re.findall(r'([A-Z][^\\.!?]*[\\.!?])', text):\n",
        "    # Check if the sentence is a title or a separate sentence\n",
        "    if re.match(r'^\\d+\\.$', sentence) or re.match(r'^[A-Z\\s]+$', sentence):\n",
        "        sentences.append(sentence)\n",
        "    else:\n",
        "        # Split the sentence into individual lines\n",
        "        lines = sentence.split('\\n')\n",
        "        for i in range(len(lines)):\n",
        "            line = lines[i].strip()\n",
        "            # Check if the line is a separate sentence\n",
        "            if re.match(r'^[A-Z\\s]+$', line):\n",
        "                sentences.append(line)\n",
        "            # Otherwise, join the line with the previous lines until a period is found\n",
        "            else:\n",
        "                j = i\n",
        "                while j < len(lines) and not lines[j].endswith('.'):\n",
        "                    line += ' ' + lines[j+1].strip()\n",
        "                    j += 1\n",
        "                sentences.append(line)\n",
        "\n",
        "# Write the sentences to a new file, one sentence per row\n",
        "with open('corpus.txt', 'w') as f:\n",
        "    f.write('\\n'.join(sentences))\n"
      ]
    },
    {
      "cell_type": "code",
      "source": [
        "#print(sentences)\n",
        "#text_list.shape"
      ],
      "metadata": {
        "id": "y4Azl3gY2XLq"
      },
      "execution_count": null,
      "outputs": []
    },
    {
      "cell_type": "code",
      "source": [
        "#test translation approach but unreliable, rather use google.translate.com\n",
        "#!pip install googletrans==4.0.0-rc1  # Install the library\n",
        "\n",
        "#import time\n",
        "#from googletrans import Translator\n",
        "\n",
        "# initialize the translator\n",
        "#translator = Translator()\n",
        "\n",
        "# set the file paths\n",
        "#input_file = \"Nigerian constitution-en.txt\"\n",
        "#output_file = \"output.txt\"\n",
        "\n",
        "# open the input and output files\n",
        "#with open(input_file, \"r\") as f_in, open(output_file, \"w\") as f_out:\n",
        "    # read the input file line by line\n",
        "#    sentences = f_in.readlines()\n",
        "#    total_sentences = len(sentences)\n",
        "#    translated_sentences = []\n",
        "    \n",
        "    # translate 10 sentences at a time\n",
        "#    for i in range(0, total_sentences, 10):\n",
        "#        batch_sentences = sentences[i:i+10]\n",
        "        # translate each sentence in the batch\n",
        "#        for sentence in batch_sentences:\n",
        "#            translated = translator.translate(sentence, dest=\"igbo\")\n",
        "#            translated_sentences.append(translated.text)\n",
        "#            time.sleep(2)  # delay for 2 seconds between each translation\n",
        "            \n",
        "        # write the translated sentences to the output file\n",
        "#        f_out.write(\"\\n\".join(translated_sentences))\n",
        "#        f_out.write(\"\\n\")\n",
        "#        translated_sentences = []\n",
        "        \n",
        "        # print a message when a batch of 10 sentences is translated\n",
        "#        print(f\"Translated {i+10} sentences out of {total_sentences}\")\n",
        "        \n",
        "#print(\"Translation complete!\")\n"
      ],
      "metadata": {
        "colab": {
          "base_uri": "https://localhost:8080/",
          "height": 380
        },
        "id": "GXYU7smG7iSu",
        "outputId": "7cab70b8-bf98-437e-f7e1-382dec40a0c3"
      },
      "execution_count": null,
      "outputs": [
        {
          "output_type": "error",
          "ename": "TypeError",
          "evalue": "ignored",
          "traceback": [
            "\u001b[0;31m---------------------------------------------------------------------------\u001b[0m",
            "\u001b[0;31mTypeError\u001b[0m                                 Traceback (most recent call last)",
            "\u001b[0;32m<ipython-input-59-501adfb25ef3>\u001b[0m in \u001b[0;36m<cell line: 14>\u001b[0;34m()\u001b[0m\n\u001b[1;32m     23\u001b[0m         \u001b[0;31m# translate each sentence in the batch\u001b[0m\u001b[0;34m\u001b[0m\u001b[0;34m\u001b[0m\u001b[0m\n\u001b[1;32m     24\u001b[0m         \u001b[0;32mfor\u001b[0m \u001b[0msentence\u001b[0m \u001b[0;32min\u001b[0m \u001b[0mbatch_sentences\u001b[0m\u001b[0;34m:\u001b[0m\u001b[0;34m\u001b[0m\u001b[0;34m\u001b[0m\u001b[0m\n\u001b[0;32m---> 25\u001b[0;31m             \u001b[0mtranslated\u001b[0m \u001b[0;34m=\u001b[0m \u001b[0mtranslator\u001b[0m\u001b[0;34m.\u001b[0m\u001b[0mtranslate\u001b[0m\u001b[0;34m(\u001b[0m\u001b[0msentence\u001b[0m\u001b[0;34m,\u001b[0m \u001b[0mdest\u001b[0m\u001b[0;34m=\u001b[0m\u001b[0;34m\"igbo\"\u001b[0m\u001b[0;34m)\u001b[0m\u001b[0;34m\u001b[0m\u001b[0;34m\u001b[0m\u001b[0m\n\u001b[0m\u001b[1;32m     26\u001b[0m             \u001b[0mtranslated_sentences\u001b[0m\u001b[0;34m.\u001b[0m\u001b[0mappend\u001b[0m\u001b[0;34m(\u001b[0m\u001b[0mtranslated\u001b[0m\u001b[0;34m.\u001b[0m\u001b[0mtext\u001b[0m\u001b[0;34m)\u001b[0m\u001b[0;34m\u001b[0m\u001b[0;34m\u001b[0m\u001b[0m\n\u001b[1;32m     27\u001b[0m             \u001b[0mtime\u001b[0m\u001b[0;34m.\u001b[0m\u001b[0msleep\u001b[0m\u001b[0;34m(\u001b[0m\u001b[0;36m2\u001b[0m\u001b[0;34m)\u001b[0m  \u001b[0;31m# delay for 2 seconds between each translation\u001b[0m\u001b[0;34m\u001b[0m\u001b[0;34m\u001b[0m\u001b[0m\n",
            "\u001b[0;32m/usr/local/lib/python3.9/dist-packages/googletrans/client.py\u001b[0m in \u001b[0;36mtranslate\u001b[0;34m(self, text, dest, src)\u001b[0m\n\u001b[1;32m    217\u001b[0m \u001b[0;34m\u001b[0m\u001b[0m\n\u001b[1;32m    218\u001b[0m         \u001b[0mdata\u001b[0m \u001b[0;34m=\u001b[0m \u001b[0mjson\u001b[0m\u001b[0;34m.\u001b[0m\u001b[0mloads\u001b[0m\u001b[0;34m(\u001b[0m\u001b[0mresp\u001b[0m\u001b[0;34m)\u001b[0m\u001b[0;34m\u001b[0m\u001b[0;34m\u001b[0m\u001b[0m\n\u001b[0;32m--> 219\u001b[0;31m         \u001b[0mparsed\u001b[0m \u001b[0;34m=\u001b[0m \u001b[0mjson\u001b[0m\u001b[0;34m.\u001b[0m\u001b[0mloads\u001b[0m\u001b[0;34m(\u001b[0m\u001b[0mdata\u001b[0m\u001b[0;34m[\u001b[0m\u001b[0;36m0\u001b[0m\u001b[0;34m]\u001b[0m\u001b[0;34m[\u001b[0m\u001b[0;36m2\u001b[0m\u001b[0;34m]\u001b[0m\u001b[0;34m)\u001b[0m\u001b[0;34m\u001b[0m\u001b[0;34m\u001b[0m\u001b[0m\n\u001b[0m\u001b[1;32m    220\u001b[0m         \u001b[0;31m# not sure\u001b[0m\u001b[0;34m\u001b[0m\u001b[0;34m\u001b[0m\u001b[0m\n\u001b[1;32m    221\u001b[0m         \u001b[0mshould_spacing\u001b[0m \u001b[0;34m=\u001b[0m \u001b[0mparsed\u001b[0m\u001b[0;34m[\u001b[0m\u001b[0;36m1\u001b[0m\u001b[0;34m]\u001b[0m\u001b[0;34m[\u001b[0m\u001b[0;36m0\u001b[0m\u001b[0;34m]\u001b[0m\u001b[0;34m[\u001b[0m\u001b[0;36m0\u001b[0m\u001b[0;34m]\u001b[0m\u001b[0;34m[\u001b[0m\u001b[0;36m3\u001b[0m\u001b[0;34m]\u001b[0m\u001b[0;34m\u001b[0m\u001b[0;34m\u001b[0m\u001b[0m\n",
            "\u001b[0;32m/usr/lib/python3.9/json/__init__.py\u001b[0m in \u001b[0;36mloads\u001b[0;34m(s, cls, object_hook, parse_float, parse_int, parse_constant, object_pairs_hook, **kw)\u001b[0m\n\u001b[1;32m    337\u001b[0m     \u001b[0;32melse\u001b[0m\u001b[0;34m:\u001b[0m\u001b[0;34m\u001b[0m\u001b[0;34m\u001b[0m\u001b[0m\n\u001b[1;32m    338\u001b[0m         \u001b[0;32mif\u001b[0m \u001b[0;32mnot\u001b[0m \u001b[0misinstance\u001b[0m\u001b[0;34m(\u001b[0m\u001b[0ms\u001b[0m\u001b[0;34m,\u001b[0m \u001b[0;34m(\u001b[0m\u001b[0mbytes\u001b[0m\u001b[0;34m,\u001b[0m \u001b[0mbytearray\u001b[0m\u001b[0;34m)\u001b[0m\u001b[0;34m)\u001b[0m\u001b[0;34m:\u001b[0m\u001b[0;34m\u001b[0m\u001b[0;34m\u001b[0m\u001b[0m\n\u001b[0;32m--> 339\u001b[0;31m             raise TypeError(f'the JSON object must be str, bytes or bytearray, '\n\u001b[0m\u001b[1;32m    340\u001b[0m                             f'not {s.__class__.__name__}')\n\u001b[1;32m    341\u001b[0m         \u001b[0ms\u001b[0m \u001b[0;34m=\u001b[0m \u001b[0ms\u001b[0m\u001b[0;34m.\u001b[0m\u001b[0mdecode\u001b[0m\u001b[0;34m(\u001b[0m\u001b[0mdetect_encoding\u001b[0m\u001b[0;34m(\u001b[0m\u001b[0ms\u001b[0m\u001b[0;34m)\u001b[0m\u001b[0;34m,\u001b[0m \u001b[0;34m'surrogatepass'\u001b[0m\u001b[0;34m)\u001b[0m\u001b[0;34m\u001b[0m\u001b[0;34m\u001b[0m\u001b[0m\n",
            "\u001b[0;31mTypeError\u001b[0m: the JSON object must be str, bytes or bytearray, not NoneType"
          ]
        }
      ]
    },
    {
      "cell_type": "code",
      "source": [
        "print(translated)"
      ],
      "metadata": {
        "colab": {
          "base_uri": "https://localhost:8080/"
        },
        "id": "oHihqksO_EE7",
        "outputId": "467edc11-4cbd-4799-ae2b-30480e1a6591"
      },
      "execution_count": null,
      "outputs": [
        {
          "output_type": "stream",
          "name": "stdout",
          "text": [
            "Translated(src=en, dest=ig, text=ịdị n'otu, ụwa udo, udo na nghọta, pronunciation=None, extra_data=\"{'confiden...\")\n"
          ]
        }
      ]
    }
  ]
}